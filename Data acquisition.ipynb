{
 "cells": [
  {
   "cell_type": "code",
   "execution_count": 1,
   "metadata": {
    "collapsed": true
   },
   "outputs": [],
   "source": [
    "# Import libraries\n",
    "import sys\n",
    "import tweepy\n",
    "import re\n",
    "import matplotlib.pyplot as plt\n",
    "import pandas as pd\n",
    "import unidecode\n",
    "import math\n",
    "from collections import Counter\n",
    "\n",
    "# Authenticate to Twitter API with Tweepy\n",
    "consumer_key='S7e4bcPSpNhfHEeO64pjylwFC'\n",
    "consumer_secret='cGLaCjvlDvfwqzkEn7hN3AkZlUMtrhLz7SFczsASnkexy10BBx'\n",
    "access_key='959019738855862273-5rqxlIGK9aCvlo2z9JWahnFPcpfln2f'\n",
    "access_secret='z2NQevSQfCdEp67FWYqnYd531J6KMCzp2zGjgESiP1JsX'\n",
    "auth = tweepy.OAuthHandler(consumer_key, consumer_secret)\n",
    "auth.set_access_token(access_key, access_secret)\n",
    "api = tweepy.API(auth, wait_on_rate_limit=True) # Wait if rate limit appears\n",
    "\n",
    "# Read cities dataset\n",
    "df_cities = pd.read_csv('cities.csv', encoding='utf-8')"
   ]
  },
  {
   "cell_type": "code",
   "execution_count": null,
   "metadata": {
    "collapsed": true
   },
   "outputs": [],
   "source": [
    "df_cities.head()"
   ]
  },
  {
   "cell_type": "code",
   "execution_count": 2,
   "metadata": {
    "collapsed": true
   },
   "outputs": [],
   "source": [
    "# Load used CAs\n",
    "Andalusia = [\"Andalusia\", \"37.3399964,-4.5811614,250km\"]\n",
    "Madrid = [\"Madrid\", \"40.5248319,-3.7715628,60km\"]\n",
    "Catalonia = [\"Catalonia\", \"41.8523094,1.5745043,150km\"]\n",
    "Canary_Islands = [\"Canary_Islands\", \"28.5306525,-15.7464439,400km\"]\n",
    "Basque_Country = [\"Basque_Country\", \"42.9911816,-2.5543023,100km\"]\n",
    "\n",
    "# Other CAs\n",
    "#Extremadura = \n",
    "#CastillaLaMancha = \n",
    "#CastillaLeon = \n",
    "#Cantabria = \n",
    "#ComunidadValenciana = \n",
    "#Aragon = \n",
    "#LaRioja = \n",
    "#Navarra = \n",
    "#Asturias = \n",
    "#Murcia = \n",
    "\n",
    "CAS = [Andalusia, Madrid, Catalonia, Basque_Country, Canary_Islands]"
   ]
  },
  {
   "cell_type": "code",
   "execution_count": null,
   "metadata": {
    "collapsed": true
   },
   "outputs": [],
   "source": [
    "# 1. Get 300 tweets (in case some of them fail to be retrieved) for each CA\n",
    "# 2. Extract location of tweet. If location doesnt match one of the cities in the CA: ignore. Else:\n",
    "# 3. Save ID of the tweet's user\n",
    "CAS_ids = []\n",
    "for CA in CAS:\n",
    "    CA_cities = df_cities[df_cities[\"admin\"] == CA[0]][\"city\"]\n",
    "    tweets = tweepy.Cursor(api.search, geocode = CA[1]).items(500)  \n",
    "    CA_ids = []\n",
    "    for tweet in tweets:\n",
    "        search_location = re.search('location\\':(.+?),', str(tweet.user))\n",
    "        if search_location:\n",
    "            found_location = search_location.group(1)\n",
    "            found_location = unidecode.unidecode(found_location) # Delete accent of location\n",
    "            if any(word.lower() in found_location.lower() for word in CA_cities): # Check if city matches\n",
    "                search_id = re.search('id\\': (.+?),', str(tweet.user))\n",
    "                if search_id:\n",
    "                    found_id = search_id.group(1)\n",
    "                    CA_ids.append(int(found_id))\n",
    "                    print(found_id)\n",
    "    CAS_ids.append(CA_ids)\n"
   ]
  },
  {
   "cell_type": "code",
   "execution_count": null,
   "metadata": {
    "collapsed": true
   },
   "outputs": [],
   "source": [
    "# Create dataframe with list of user IDs per each CA\n",
    "columns  =[\"Andalusia\", \"Madrid\", \"Catalonia\", \"Basque_Country\", \"Canary_Islands\"]\n",
    "df_ids = pd.DataFrame(data=list(zip(CAS_ids[0], CAS_ids[1], CAS_ids[2], CAS_ids[3], CAS_ids[4])),columns=columns)\n",
    "print(df_ids)"
   ]
  },
  {
   "cell_type": "code",
   "execution_count": null,
   "metadata": {
    "collapsed": true
   },
   "outputs": [],
   "source": [
    "df_ids.to_csv(\"CAS_ids2.csv\", index = False)"
   ]
  },
  {
   "cell_type": "code",
   "execution_count": 6,
   "metadata": {
    "collapsed": true
   },
   "outputs": [],
   "source": [
    "df_ids = pd.read_csv(\"CAS_ids.csv\")"
   ]
  },
  {
   "cell_type": "code",
   "execution_count": 7,
   "metadata": {},
   "outputs": [
    {
     "data": {
      "text/html": [
       "<div>\n",
       "<style scoped>\n",
       "    .dataframe tbody tr th:only-of-type {\n",
       "        vertical-align: middle;\n",
       "    }\n",
       "\n",
       "    .dataframe tbody tr th {\n",
       "        vertical-align: top;\n",
       "    }\n",
       "\n",
       "    .dataframe thead th {\n",
       "        text-align: right;\n",
       "    }\n",
       "</style>\n",
       "<table border=\"1\" class=\"dataframe\">\n",
       "  <thead>\n",
       "    <tr style=\"text-align: right;\">\n",
       "      <th></th>\n",
       "      <th>Unnamed: 0</th>\n",
       "      <th>Andalusia</th>\n",
       "      <th>Madrid</th>\n",
       "      <th>Catalonia</th>\n",
       "      <th>Basque_Country</th>\n",
       "      <th>Canary_Islands</th>\n",
       "    </tr>\n",
       "  </thead>\n",
       "  <tbody>\n",
       "    <tr>\n",
       "      <th>0</th>\n",
       "      <td>0</td>\n",
       "      <td>3.187391e+09</td>\n",
       "      <td>9.472620e+17</td>\n",
       "      <td>9.962820e+17</td>\n",
       "      <td>5.779776e+08</td>\n",
       "      <td>1.535959e+09</td>\n",
       "    </tr>\n",
       "    <tr>\n",
       "      <th>1</th>\n",
       "      <td>1</td>\n",
       "      <td>3.570266e+08</td>\n",
       "      <td>3.091823e+09</td>\n",
       "      <td>1.108110e+18</td>\n",
       "      <td>2.857514e+08</td>\n",
       "      <td>4.040097e+09</td>\n",
       "    </tr>\n",
       "    <tr>\n",
       "      <th>2</th>\n",
       "      <td>2</td>\n",
       "      <td>2.847942e+08</td>\n",
       "      <td>3.014721e+09</td>\n",
       "      <td>4.348639e+08</td>\n",
       "      <td>1.976204e+08</td>\n",
       "      <td>3.931719e+09</td>\n",
       "    </tr>\n",
       "    <tr>\n",
       "      <th>3</th>\n",
       "      <td>3</td>\n",
       "      <td>1.105070e+18</td>\n",
       "      <td>3.018285e+08</td>\n",
       "      <td>3.781350e+08</td>\n",
       "      <td>4.913358e+08</td>\n",
       "      <td>9.943330e+17</td>\n",
       "    </tr>\n",
       "    <tr>\n",
       "      <th>4</th>\n",
       "      <td>4</td>\n",
       "      <td>4.757284e+08</td>\n",
       "      <td>1.005840e+18</td>\n",
       "      <td>9.686820e+17</td>\n",
       "      <td>1.013520e+18</td>\n",
       "      <td>2.361099e+09</td>\n",
       "    </tr>\n",
       "  </tbody>\n",
       "</table>\n",
       "</div>"
      ],
      "text/plain": [
       "   Unnamed: 0     Andalusia        Madrid     Catalonia  Basque_Country  \\\n",
       "0           0  3.187391e+09  9.472620e+17  9.962820e+17    5.779776e+08   \n",
       "1           1  3.570266e+08  3.091823e+09  1.108110e+18    2.857514e+08   \n",
       "2           2  2.847942e+08  3.014721e+09  4.348639e+08    1.976204e+08   \n",
       "3           3  1.105070e+18  3.018285e+08  3.781350e+08    4.913358e+08   \n",
       "4           4  4.757284e+08  1.005840e+18  9.686820e+17    1.013520e+18   \n",
       "\n",
       "   Canary_Islands  \n",
       "0    1.535959e+09  \n",
       "1    4.040097e+09  \n",
       "2    3.931719e+09  \n",
       "3    9.943330e+17  \n",
       "4    2.361099e+09  "
      ]
     },
     "execution_count": 7,
     "metadata": {},
     "output_type": "execute_result"
    }
   ],
   "source": [
    "df_ids.head()"
   ]
  },
  {
   "cell_type": "code",
   "execution_count": null,
   "metadata": {
    "collapsed": true
   },
   "outputs": [],
   "source": [
    "# For each user ID, get 200 tweets and store all of them (some will give error)\n",
    "tweet_users_text = []\n",
    "for CA in CAS:\n",
    "    user_n = 1\n",
    "    for user_id in df_ids[CA[0]]:\n",
    "        tweet_n = 1\n",
    "        user_id = int(user_id)\n",
    "        user_id = str(user_id)\n",
    "        try:      \n",
    "            tweets = tweepy.Cursor(api.user_timeline, id=user_id).items(100)\n",
    "            for tweet in tweets:\n",
    "                tweet_text = [user_id, tweet.text, CA[0]]\n",
    "                if !(math.isnan(tweet.text)):\n",
    "                    tweet_users_text.append(tweet_text)\n",
    "                    print(\"User {} of {} / Tweet {} of {} in {}\".format(user_n, len(df_ids[CA[0]]), tweet_n, len(tweets), CA[0]))\n",
    "                    tweet_n += 1\n",
    "            user_n += 1\n",
    "            \n",
    "        except:\n",
    "            \"Ignore User\"   "
   ]
  },
  {
   "cell_type": "code",
   "execution_count": null,
   "metadata": {
    "collapsed": true
   },
   "outputs": [],
   "source": [
    "# Transform to dataframe\n",
    "df_tweets = pd.DataFrame(tweet_users_text, columns = [\"id\", \"tweet\", \"location\"])"
   ]
  },
  {
   "cell_type": "code",
   "execution_count": 5,
   "metadata": {},
   "outputs": [
    {
     "name": "stdout",
     "output_type": "stream",
     "text": [
      "[('Andalusia', 7237), ('Madrid', 6500), ('Basque_Country', 6300), ('Canary_Islands', 4759), ('Catalonia', 2792)]\n"
     ]
    }
   ],
   "source": [
    "# Check number of tweets obtained\n",
    "count_CA = Counter(list(df_tweets[\"location\"])).most_common(5)\n",
    "print(count_CA)"
   ]
  },
  {
   "cell_type": "code",
   "execution_count": null,
   "metadata": {
    "collapsed": true
   },
   "outputs": [],
   "source": [
    "df_tweets.to_csv(\"tweet_dataset.csv\", encoding='utf-8-sig', index = False)"
   ]
  },
  {
   "cell_type": "code",
   "execution_count": 2,
   "metadata": {
    "collapsed": true
   },
   "outputs": [],
   "source": [
    "df_tweets = pd.read_csv(\"tweet_dataset.csv\")"
   ]
  }
 ],
 "metadata": {
  "kernelspec": {
   "display_name": "Python 3",
   "language": "python",
   "name": "python3"
  },
  "language_info": {
   "codemirror_mode": {
    "name": "ipython",
    "version": 3
   },
   "file_extension": ".py",
   "mimetype": "text/x-python",
   "name": "python",
   "nbconvert_exporter": "python",
   "pygments_lexer": "ipython3",
   "version": "3.6.6"
  }
 },
 "nbformat": 4,
 "nbformat_minor": 2
}
