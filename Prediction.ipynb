{
 "cells": [
  {
   "cell_type": "code",
   "execution_count": 1,
   "metadata": {
    "collapsed": true
   },
   "outputs": [],
   "source": [
    "# Import libraries\n",
    "import pandas as pd\n",
    "from nltk.tokenize import RegexpTokenizer\n",
    "from nltk.corpus import stopwords\n",
    "from nltk.stem import SnowballStemmer\n",
    "from sklearn.model_selection import train_test_split\n",
    "from sklearn.feature_extraction.text import TfidfVectorizer\n",
    "from sklearn.linear_model import LogisticRegression\n",
    "from sklearn.svm import LinearSVC\n",
    "from sklearn.ensemble import RandomForestClassifier\n",
    "from sklearn import metrics\n",
    "from sklearn.metrics import confusion_matrix\n",
    "from collections import Counter\n",
    "import random\n",
    "import math\n",
    "from statistics import mode \n",
    "import itertools\n",
    "import numpy as np\n",
    "\n",
    "# TFIDF\n",
    "vectorizer = TfidfVectorizer()"
   ]
  },
  {
   "cell_type": "code",
   "execution_count": 2,
   "metadata": {
    "collapsed": true
   },
   "outputs": [],
   "source": [
    "def calculate_accuracy_user(model_name):\n",
    "    correct_pred = 0\n",
    "    for id_num in ids_test:\n",
    "        c = Counter(df_test[df_test[\"id\"] == id_num][\"predictions\"])  \n",
    "        mode_count = max(c.values())\n",
    "        mode = {key for key, count in c.items() if count == mode_count}\n",
    "        pred = next(x for x in df_test[df_test[\"id\"] == id_num][\"predictions\"] if x in mode)\n",
    "        #real = mode(df_test[df_test[\"id\"] == id_num][\"location\"])\n",
    "        lst  =(list(df_test[df_test[\"id\"] == id_num][\"location\"]))\n",
    "        real = max(set(lst), key=lst.count)\n",
    "        if real == pred:\n",
    "            correct_pred = correct_pred + 1\n",
    "\n",
    "    print(\"Accuracy for {}: {}\".format(model_name, correct_pred/len(ids_test)))"
   ]
  },
  {
   "cell_type": "code",
   "execution_count": 3,
   "metadata": {
    "collapsed": true
   },
   "outputs": [],
   "source": [
    "df_processed = pd.read_csv(\"tweet_dataset_processed.csv\")"
   ]
  },
  {
   "cell_type": "code",
   "execution_count": 9,
   "metadata": {},
   "outputs": [
    {
     "data": {
      "text/plain": [
       "45212"
      ]
     },
     "execution_count": 9,
     "metadata": {},
     "output_type": "execute_result"
    }
   ],
   "source": [
    "len(df_processed)"
   ]
  },
  {
   "cell_type": "markdown",
   "metadata": {},
   "source": [
    "# Prediction"
   ]
  },
  {
   "cell_type": "code",
   "execution_count": 10,
   "metadata": {
    "collapsed": true
   },
   "outputs": [],
   "source": [
    "# Shuffle all unique ids\n",
    "df_processed = df_processed.dropna()\n",
    "ids = list(df_processed[\"id\"].unique())\n",
    "ids_shuffled = random.sample(ids, len(ids))"
   ]
  },
  {
   "cell_type": "code",
   "execution_count": 11,
   "metadata": {},
   "outputs": [
    {
     "name": "stdout",
     "output_type": "stream",
     "text": [
      "559\n"
     ]
    }
   ],
   "source": [
    "# Split ids in train/test 0.9/0.1 approximately\n",
    "# We should predict multiple times with randomly shuffled data to avoid overfitting\n",
    "print(len(df_processed[\"id\"].unique()))\n",
    "ids_train = ids_shuffled[:500]\n",
    "ids_test = ids_shuffled[500:]"
   ]
  },
  {
   "cell_type": "code",
   "execution_count": 12,
   "metadata": {
    "collapsed": true
   },
   "outputs": [],
   "source": [
    "# Create train and test\n",
    "df_train = df_processed[df_processed['id'].isin(ids_train)]\n",
    "df_test = df_processed[df_processed['id'].isin(ids_test)]\n",
    "\n",
    "X_train = df_train[\"tweet\"]\n",
    "X_test = df_test[\"tweet\"]\n",
    "y_train = df_train[\"location\"]\n",
    "y_test = df_test[\"location\"]"
   ]
  },
  {
   "cell_type": "code",
   "execution_count": 13,
   "metadata": {
    "collapsed": true
   },
   "outputs": [],
   "source": [
    "# Transform tweets with TFIDF vectorizer\n",
    "X_train = vectorizer.fit_transform(X_train)\n",
    "X_test = vectorizer.transform(X_test)"
   ]
  },
  {
   "cell_type": "code",
   "execution_count": 14,
   "metadata": {},
   "outputs": [
    {
     "name": "stderr",
     "output_type": "stream",
     "text": [
      "C:\\Users\\ignac\\Anaconda3\\lib\\site-packages\\sklearn\\ensemble\\forest.py:246: FutureWarning: The default value of n_estimators will change from 10 in version 0.20 to 100 in 0.22.\n",
      "  \"10 in version 0.20 to 100 in 0.22.\", FutureWarning)\n",
      "C:\\Users\\ignac\\Anaconda3\\lib\\site-packages\\ipykernel_launcher.py:10: SettingWithCopyWarning: \n",
      "A value is trying to be set on a copy of a slice from a DataFrame.\n",
      "Try using .loc[row_indexer,col_indexer] = value instead\n",
      "\n",
      "See the caveats in the documentation: http://pandas.pydata.org/pandas-docs/stable/indexing.html#indexing-view-versus-copy\n",
      "  # Remove the CWD from sys.path while we load stuff.\n"
     ]
    },
    {
     "name": "stdout",
     "output_type": "stream",
     "text": [
      "Accuracy for Random Forest: 0.4406779661016949\n",
      "Accuracy for Linear SVC: 0.576271186440678\n"
     ]
    },
    {
     "name": "stderr",
     "output_type": "stream",
     "text": [
      "C:\\Users\\ignac\\Anaconda3\\lib\\site-packages\\sklearn\\linear_model\\logistic.py:433: FutureWarning: Default solver will be changed to 'lbfgs' in 0.22. Specify a solver to silence this warning.\n",
      "  FutureWarning)\n",
      "C:\\Users\\ignac\\Anaconda3\\lib\\site-packages\\sklearn\\linear_model\\logistic.py:460: FutureWarning: Default multi_class will be changed to 'auto' in 0.22. Specify the multi_class option to silence this warning.\n",
      "  \"this warning.\", FutureWarning)\n"
     ]
    },
    {
     "name": "stdout",
     "output_type": "stream",
     "text": [
      "Accuracy for Logistic Reg: 0.5084745762711864\n"
     ]
    }
   ],
   "source": [
    "# Dummy prediction: Random Forest Classifier\n",
    "# We are predicting just individual tweets\n",
    "\n",
    "models = [[\"Random Forest\", RandomForestClassifier()], [\"Linear SVC\", LinearSVC()], [\"Logistic Reg\", LogisticRegression()]]\n",
    "\n",
    "for sel_model in models:\n",
    "    model_name, model = sel_model\n",
    "    model.fit(X_train,y_train)\n",
    "    prediction = model.predict(X_test)\n",
    "    df_test[\"predictions\"] = prediction\n",
    "    calculate_accuracy_user(model_name)\n",
    "     "
   ]
  },
  {
   "cell_type": "code",
   "execution_count": null,
   "metadata": {
    "collapsed": true
   },
   "outputs": [],
   "source": []
  }
 ],
 "metadata": {
  "kernelspec": {
   "display_name": "Python 3",
   "language": "python",
   "name": "python3"
  },
  "language_info": {
   "codemirror_mode": {
    "name": "ipython",
    "version": 3
   },
   "file_extension": ".py",
   "mimetype": "text/x-python",
   "name": "python",
   "nbconvert_exporter": "python",
   "pygments_lexer": "ipython3",
   "version": "3.6.6"
  }
 },
 "nbformat": 4,
 "nbformat_minor": 2
}
