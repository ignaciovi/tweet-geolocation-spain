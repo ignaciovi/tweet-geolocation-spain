{
 "cells": [
  {
   "cell_type": "code",
   "execution_count": 1,
   "metadata": {
    "collapsed": true
   },
   "outputs": [],
   "source": [
    "import sys\n",
    "import tweepy\n",
    "import sys\n",
    "import tweepy\n",
    "from nltk.corpus import stopwords\n",
    "import re\n",
    "from collections import Counter\n",
    "import pandas as pd\n",
    "import unidecode\n",
    "\n",
    "consumer_key='YJDELxapXCz0dIbfJcJ27sfU5'\n",
    "consumer_secret='q5ucGBB9xU9p5Xvorp9UwtvN3qaEhOlOFye3bL83YRRE9riTc0'\n",
    "access_key='959019738855862273-PqPmgzE4fIrlLb9x49xSUAN5HoqjS15'\n",
    "access_secret='jtYyvfdPiXGoeuJ5QnmnaAluw8bSitinnqUMI4Sl2cDWm'\n",
    "\n",
    "auth = tweepy.OAuthHandler(consumer_key, consumer_secret)\n",
    "auth.set_access_token(access_key, access_secret)\n",
    "api = tweepy.API(auth)\n",
    "\n",
    "\n",
    "df = pd.read_csv('cities.csv', encoding='utf-8')"
   ]
  },
  {
   "cell_type": "code",
   "execution_count": 2,
   "metadata": {},
   "outputs": [
    {
     "data": {
      "text/html": [
       "<div>\n",
       "<style scoped>\n",
       "    .dataframe tbody tr th:only-of-type {\n",
       "        vertical-align: middle;\n",
       "    }\n",
       "\n",
       "    .dataframe tbody tr th {\n",
       "        vertical-align: top;\n",
       "    }\n",
       "\n",
       "    .dataframe thead th {\n",
       "        text-align: right;\n",
       "    }\n",
       "</style>\n",
       "<table border=\"1\" class=\"dataframe\">\n",
       "  <thead>\n",
       "    <tr style=\"text-align: right;\">\n",
       "      <th></th>\n",
       "      <th>city</th>\n",
       "      <th>lat</th>\n",
       "      <th>lng</th>\n",
       "      <th>country</th>\n",
       "      <th>iso2</th>\n",
       "      <th>admin</th>\n",
       "      <th>capital</th>\n",
       "      <th>population</th>\n",
       "      <th>population_proper</th>\n",
       "    </tr>\n",
       "  </thead>\n",
       "  <tbody>\n",
       "    <tr>\n",
       "      <th>0</th>\n",
       "      <td>Madrid</td>\n",
       "      <td>40.412752</td>\n",
       "      <td>-3.707721</td>\n",
       "      <td>Spain</td>\n",
       "      <td>ES</td>\n",
       "      <td>Madrid</td>\n",
       "      <td>primary</td>\n",
       "      <td>5567000.0</td>\n",
       "      <td>50437.0</td>\n",
       "    </tr>\n",
       "    <tr>\n",
       "      <th>1</th>\n",
       "      <td>Barcelona</td>\n",
       "      <td>41.398371</td>\n",
       "      <td>2.174100</td>\n",
       "      <td>Spain</td>\n",
       "      <td>ES</td>\n",
       "      <td>Catalonia</td>\n",
       "      <td>admin</td>\n",
       "      <td>4920000.0</td>\n",
       "      <td>1581595.0</td>\n",
       "    </tr>\n",
       "    <tr>\n",
       "      <th>2</th>\n",
       "      <td>Sevilla</td>\n",
       "      <td>37.382826</td>\n",
       "      <td>-5.973167</td>\n",
       "      <td>Spain</td>\n",
       "      <td>ES</td>\n",
       "      <td>Andalusia</td>\n",
       "      <td>admin</td>\n",
       "      <td>1212045.0</td>\n",
       "      <td>703021.0</td>\n",
       "    </tr>\n",
       "    <tr>\n",
       "      <th>3</th>\n",
       "      <td>Bilbao</td>\n",
       "      <td>43.260919</td>\n",
       "      <td>-2.938764</td>\n",
       "      <td>Spain</td>\n",
       "      <td>ES</td>\n",
       "      <td>Basque Country</td>\n",
       "      <td>minor</td>\n",
       "      <td>875552.0</td>\n",
       "      <td>353187.0</td>\n",
       "    </tr>\n",
       "    <tr>\n",
       "      <th>4</th>\n",
       "      <td>Valencia</td>\n",
       "      <td>39.466667</td>\n",
       "      <td>-0.366667</td>\n",
       "      <td>Spain</td>\n",
       "      <td>ES</td>\n",
       "      <td>Valencia</td>\n",
       "      <td>admin</td>\n",
       "      <td>808000.0</td>\n",
       "      <td>805304.0</td>\n",
       "    </tr>\n",
       "  </tbody>\n",
       "</table>\n",
       "</div>"
      ],
      "text/plain": [
       "        city        lat       lng country iso2           admin  capital  \\\n",
       "0     Madrid  40.412752 -3.707721   Spain   ES          Madrid  primary   \n",
       "1  Barcelona  41.398371  2.174100   Spain   ES       Catalonia    admin   \n",
       "2    Sevilla  37.382826 -5.973167   Spain   ES       Andalusia    admin   \n",
       "3     Bilbao  43.260919 -2.938764   Spain   ES  Basque Country    minor   \n",
       "4   Valencia  39.466667 -0.366667   Spain   ES        Valencia    admin   \n",
       "\n",
       "   population  population_proper  \n",
       "0   5567000.0            50437.0  \n",
       "1   4920000.0          1581595.0  \n",
       "2   1212045.0           703021.0  \n",
       "3    875552.0           353187.0  \n",
       "4    808000.0           805304.0  "
      ]
     },
     "execution_count": 2,
     "metadata": {},
     "output_type": "execute_result"
    }
   ],
   "source": [
    "df.head()"
   ]
  },
  {
   "cell_type": "code",
   "execution_count": 67,
   "metadata": {
    "collapsed": true
   },
   "outputs": [],
   "source": [
    "Andalusia = [\"Andalusia\", \"37.3399964,-4.5811614,250km\"]\n",
    "#Extremadura = \n",
    "Madrid = [\"Madrid\", \"40.5248319,-3.7715628,60km\"]\n",
    "Catalonia = [\"Catalonia\", \"41.8523094,1.5745043,150km\"]\n",
    "#CastillaLaMancha = \n",
    "#CastillaLeon = \n",
    "#Cantabria = \n",
    "Basque_Country = [\"Basque Country\", \"42.9911816,-2.5543023,100km\"]\n",
    "#ComunidadValenciana = \n",
    "Canary_Islands = [\"Canary Islands\", \"28.5306525,-15.7464439,400km\"]\n",
    "#Aragon = \n",
    "#LaRioja = \n",
    "#Navarra = \n",
    "#Asturias = \n",
    "#Murcia = \n",
    "\n",
    "CAS = [Andalusia, Madrid, Catalonia, Basque_Country, Canary_Islands]"
   ]
  },
  {
   "cell_type": "code",
   "execution_count": 68,
   "metadata": {
    "collapsed": true
   },
   "outputs": [],
   "source": [
    "#Rate limits are divided into 15 minute intervals. All endpoints require authentication, \n",
    "#so there is no concept of unauthenticated calls and rate limits. There are two initial buckets available \n",
    "#for GET requests: 15 calls every 15 minutes, and 180 calls every 15 minutes."
   ]
  },
  {
   "cell_type": "code",
   "execution_count": 74,
   "metadata": {},
   "outputs": [
    {
     "data": {
      "text/plain": [
       "['Santa Maria de Gracia',\n",
       " 'Arrecife',\n",
       " 'Las Palmas de Gran Canaria',\n",
       " 'Santa Cruz de Tenerife']"
      ]
     },
     "execution_count": 74,
     "metadata": {},
     "output_type": "execute_result"
    }
   ],
   "source": [
    "list(df[df[\"admin\"] == \"Canary Islands\"][\"city\"])"
   ]
  },
  {
   "cell_type": "code",
   "execution_count": 75,
   "metadata": {},
   "outputs": [
    {
     "ename": "TweepError",
     "evalue": "Twitter error response: status code = 429",
     "output_type": "error",
     "traceback": [
      "\u001b[1;31m---------------------------------------------------------------------------\u001b[0m",
      "\u001b[1;31mTweepError\u001b[0m                                Traceback (most recent call last)",
      "\u001b[1;32m<ipython-input-75-bf9632dd7e3c>\u001b[0m in \u001b[0;36m<module>\u001b[1;34m()\u001b[0m\n\u001b[0;32m      4\u001b[0m     \u001b[0mtweets\u001b[0m \u001b[1;33m=\u001b[0m \u001b[0mtweepy\u001b[0m\u001b[1;33m.\u001b[0m\u001b[0mCursor\u001b[0m\u001b[1;33m(\u001b[0m\u001b[0mapi\u001b[0m\u001b[1;33m.\u001b[0m\u001b[0msearch\u001b[0m\u001b[1;33m,\u001b[0m \u001b[0mgeocode\u001b[0m \u001b[1;33m=\u001b[0m \u001b[0mCA\u001b[0m\u001b[1;33m[\u001b[0m\u001b[1;36m1\u001b[0m\u001b[1;33m]\u001b[0m\u001b[1;33m)\u001b[0m\u001b[1;33m.\u001b[0m\u001b[0mitems\u001b[0m\u001b[1;33m(\u001b[0m\u001b[1;36m300\u001b[0m\u001b[1;33m)\u001b[0m\u001b[1;33m\u001b[0m\u001b[0m\n\u001b[0;32m      5\u001b[0m     \u001b[0mCA_ids\u001b[0m \u001b[1;33m=\u001b[0m \u001b[1;33m[\u001b[0m\u001b[1;33m]\u001b[0m\u001b[1;33m\u001b[0m\u001b[0m\n\u001b[1;32m----> 6\u001b[1;33m     \u001b[1;32mfor\u001b[0m \u001b[0mtweet\u001b[0m \u001b[1;32min\u001b[0m \u001b[0mtweets\u001b[0m\u001b[1;33m:\u001b[0m\u001b[1;33m\u001b[0m\u001b[0m\n\u001b[0m\u001b[0;32m      7\u001b[0m         \u001b[0msearch_location\u001b[0m \u001b[1;33m=\u001b[0m \u001b[0mre\u001b[0m\u001b[1;33m.\u001b[0m\u001b[0msearch\u001b[0m\u001b[1;33m(\u001b[0m\u001b[1;34m'location\\':(.+?),'\u001b[0m\u001b[1;33m,\u001b[0m \u001b[0mstr\u001b[0m\u001b[1;33m(\u001b[0m\u001b[0mtweet\u001b[0m\u001b[1;33m.\u001b[0m\u001b[0muser\u001b[0m\u001b[1;33m)\u001b[0m\u001b[1;33m)\u001b[0m\u001b[1;33m\u001b[0m\u001b[0m\n\u001b[0;32m      8\u001b[0m         \u001b[1;32mif\u001b[0m \u001b[0msearch_location\u001b[0m\u001b[1;33m:\u001b[0m\u001b[1;33m\u001b[0m\u001b[0m\n",
      "\u001b[1;32m~\\Anaconda3\\lib\\site-packages\\tweepy\\cursor.py\u001b[0m in \u001b[0;36m__next__\u001b[1;34m(self)\u001b[0m\n\u001b[0;32m     47\u001b[0m \u001b[1;33m\u001b[0m\u001b[0m\n\u001b[0;32m     48\u001b[0m     \u001b[1;32mdef\u001b[0m \u001b[0m__next__\u001b[0m\u001b[1;33m(\u001b[0m\u001b[0mself\u001b[0m\u001b[1;33m)\u001b[0m\u001b[1;33m:\u001b[0m\u001b[1;33m\u001b[0m\u001b[0m\n\u001b[1;32m---> 49\u001b[1;33m         \u001b[1;32mreturn\u001b[0m \u001b[0mself\u001b[0m\u001b[1;33m.\u001b[0m\u001b[0mnext\u001b[0m\u001b[1;33m(\u001b[0m\u001b[1;33m)\u001b[0m\u001b[1;33m\u001b[0m\u001b[0m\n\u001b[0m\u001b[0;32m     50\u001b[0m \u001b[1;33m\u001b[0m\u001b[0m\n\u001b[0;32m     51\u001b[0m     \u001b[1;32mdef\u001b[0m \u001b[0mnext\u001b[0m\u001b[1;33m(\u001b[0m\u001b[0mself\u001b[0m\u001b[1;33m)\u001b[0m\u001b[1;33m:\u001b[0m\u001b[1;33m\u001b[0m\u001b[0m\n",
      "\u001b[1;32m~\\Anaconda3\\lib\\site-packages\\tweepy\\cursor.py\u001b[0m in \u001b[0;36mnext\u001b[1;34m(self)\u001b[0m\n\u001b[0;32m    195\u001b[0m         \u001b[1;32mif\u001b[0m \u001b[0mself\u001b[0m\u001b[1;33m.\u001b[0m\u001b[0mcurrent_page\u001b[0m \u001b[1;32mis\u001b[0m \u001b[1;32mNone\u001b[0m \u001b[1;32mor\u001b[0m \u001b[0mself\u001b[0m\u001b[1;33m.\u001b[0m\u001b[0mpage_index\u001b[0m \u001b[1;33m==\u001b[0m \u001b[0mlen\u001b[0m\u001b[1;33m(\u001b[0m\u001b[0mself\u001b[0m\u001b[1;33m.\u001b[0m\u001b[0mcurrent_page\u001b[0m\u001b[1;33m)\u001b[0m \u001b[1;33m-\u001b[0m \u001b[1;36m1\u001b[0m\u001b[1;33m:\u001b[0m\u001b[1;33m\u001b[0m\u001b[0m\n\u001b[0;32m    196\u001b[0m             \u001b[1;31m# Reached end of current page, get the next page...\u001b[0m\u001b[1;33m\u001b[0m\u001b[1;33m\u001b[0m\u001b[0m\n\u001b[1;32m--> 197\u001b[1;33m             \u001b[0mself\u001b[0m\u001b[1;33m.\u001b[0m\u001b[0mcurrent_page\u001b[0m \u001b[1;33m=\u001b[0m \u001b[0mself\u001b[0m\u001b[1;33m.\u001b[0m\u001b[0mpage_iterator\u001b[0m\u001b[1;33m.\u001b[0m\u001b[0mnext\u001b[0m\u001b[1;33m(\u001b[0m\u001b[1;33m)\u001b[0m\u001b[1;33m\u001b[0m\u001b[0m\n\u001b[0m\u001b[0;32m    198\u001b[0m             \u001b[0mself\u001b[0m\u001b[1;33m.\u001b[0m\u001b[0mpage_index\u001b[0m \u001b[1;33m=\u001b[0m \u001b[1;33m-\u001b[0m\u001b[1;36m1\u001b[0m\u001b[1;33m\u001b[0m\u001b[0m\n\u001b[0;32m    199\u001b[0m         \u001b[0mself\u001b[0m\u001b[1;33m.\u001b[0m\u001b[0mpage_index\u001b[0m \u001b[1;33m+=\u001b[0m \u001b[1;36m1\u001b[0m\u001b[1;33m\u001b[0m\u001b[0m\n",
      "\u001b[1;32m~\\Anaconda3\\lib\\site-packages\\tweepy\\cursor.py\u001b[0m in \u001b[0;36mnext\u001b[1;34m(self)\u001b[0m\n\u001b[0;32m    106\u001b[0m \u001b[1;33m\u001b[0m\u001b[0m\n\u001b[0;32m    107\u001b[0m         \u001b[1;32mif\u001b[0m \u001b[0mself\u001b[0m\u001b[1;33m.\u001b[0m\u001b[0mindex\u001b[0m \u001b[1;33m>=\u001b[0m \u001b[0mlen\u001b[0m\u001b[1;33m(\u001b[0m\u001b[0mself\u001b[0m\u001b[1;33m.\u001b[0m\u001b[0mresults\u001b[0m\u001b[1;33m)\u001b[0m \u001b[1;33m-\u001b[0m \u001b[1;36m1\u001b[0m\u001b[1;33m:\u001b[0m\u001b[1;33m\u001b[0m\u001b[0m\n\u001b[1;32m--> 108\u001b[1;33m             \u001b[0mdata\u001b[0m \u001b[1;33m=\u001b[0m \u001b[0mself\u001b[0m\u001b[1;33m.\u001b[0m\u001b[0mmethod\u001b[0m\u001b[1;33m(\u001b[0m\u001b[0mmax_id\u001b[0m\u001b[1;33m=\u001b[0m\u001b[0mself\u001b[0m\u001b[1;33m.\u001b[0m\u001b[0mmax_id\u001b[0m\u001b[1;33m,\u001b[0m \u001b[0mparser\u001b[0m\u001b[1;33m=\u001b[0m\u001b[0mRawParser\u001b[0m\u001b[1;33m(\u001b[0m\u001b[1;33m)\u001b[0m\u001b[1;33m,\u001b[0m \u001b[1;33m*\u001b[0m\u001b[0mself\u001b[0m\u001b[1;33m.\u001b[0m\u001b[0margs\u001b[0m\u001b[1;33m,\u001b[0m \u001b[1;33m**\u001b[0m\u001b[0mself\u001b[0m\u001b[1;33m.\u001b[0m\u001b[0mkargs\u001b[0m\u001b[1;33m)\u001b[0m\u001b[1;33m\u001b[0m\u001b[0m\n\u001b[0m\u001b[0;32m    109\u001b[0m \u001b[1;33m\u001b[0m\u001b[0m\n\u001b[0;32m    110\u001b[0m             \u001b[1;32mif\u001b[0m \u001b[0mhasattr\u001b[0m\u001b[1;33m(\u001b[0m\u001b[0mself\u001b[0m\u001b[1;33m.\u001b[0m\u001b[0mmethod\u001b[0m\u001b[1;33m,\u001b[0m \u001b[1;34m'__self__'\u001b[0m\u001b[1;33m)\u001b[0m\u001b[1;33m:\u001b[0m\u001b[1;33m\u001b[0m\u001b[0m\n",
      "\u001b[1;32m~\\Anaconda3\\lib\\site-packages\\tweepy\\binder.py\u001b[0m in \u001b[0;36m_call\u001b[1;34m(*args, **kwargs)\u001b[0m\n\u001b[0;32m    248\u001b[0m             \u001b[1;32mreturn\u001b[0m \u001b[0mmethod\u001b[0m\u001b[1;33m\u001b[0m\u001b[0m\n\u001b[0;32m    249\u001b[0m         \u001b[1;32melse\u001b[0m\u001b[1;33m:\u001b[0m\u001b[1;33m\u001b[0m\u001b[0m\n\u001b[1;32m--> 250\u001b[1;33m             \u001b[1;32mreturn\u001b[0m \u001b[0mmethod\u001b[0m\u001b[1;33m.\u001b[0m\u001b[0mexecute\u001b[0m\u001b[1;33m(\u001b[0m\u001b[1;33m)\u001b[0m\u001b[1;33m\u001b[0m\u001b[0m\n\u001b[0m\u001b[0;32m    251\u001b[0m \u001b[1;33m\u001b[0m\u001b[0m\n\u001b[0;32m    252\u001b[0m     \u001b[1;31m# Set pagination mode\u001b[0m\u001b[1;33m\u001b[0m\u001b[1;33m\u001b[0m\u001b[0m\n",
      "\u001b[1;32m~\\Anaconda3\\lib\\site-packages\\tweepy\\binder.py\u001b[0m in \u001b[0;36mexecute\u001b[1;34m(self)\u001b[0m\n\u001b[0;32m    232\u001b[0m                     \u001b[1;32mraise\u001b[0m \u001b[0mRateLimitError\u001b[0m\u001b[1;33m(\u001b[0m\u001b[0merror_msg\u001b[0m\u001b[1;33m,\u001b[0m \u001b[0mresp\u001b[0m\u001b[1;33m)\u001b[0m\u001b[1;33m\u001b[0m\u001b[0m\n\u001b[0;32m    233\u001b[0m                 \u001b[1;32melse\u001b[0m\u001b[1;33m:\u001b[0m\u001b[1;33m\u001b[0m\u001b[0m\n\u001b[1;32m--> 234\u001b[1;33m                     \u001b[1;32mraise\u001b[0m \u001b[0mTweepError\u001b[0m\u001b[1;33m(\u001b[0m\u001b[0merror_msg\u001b[0m\u001b[1;33m,\u001b[0m \u001b[0mresp\u001b[0m\u001b[1;33m,\u001b[0m \u001b[0mapi_code\u001b[0m\u001b[1;33m=\u001b[0m\u001b[0mapi_error_code\u001b[0m\u001b[1;33m)\u001b[0m\u001b[1;33m\u001b[0m\u001b[0m\n\u001b[0m\u001b[0;32m    235\u001b[0m \u001b[1;33m\u001b[0m\u001b[0m\n\u001b[0;32m    236\u001b[0m             \u001b[1;31m# Parse the response payload\u001b[0m\u001b[1;33m\u001b[0m\u001b[1;33m\u001b[0m\u001b[0m\n",
      "\u001b[1;31mTweepError\u001b[0m: Twitter error response: status code = 429"
     ]
    }
   ],
   "source": [
    "CAS_ids = []\n",
    "for CA in CAS:\n",
    "    CA_cities = df[df[\"admin\"] == CA[0]][\"city\"]\n",
    "    tweets = tweepy.Cursor(api.search, geocode = CA[1]).items(300)  \n",
    "    CA_ids = []\n",
    "    for tweet in tweets:\n",
    "        search_location = re.search('location\\':(.+?),', str(tweet.user))\n",
    "        if search_location:\n",
    "            found_location = search_location.group(1)\n",
    "            # Delete accent\n",
    "            found_location = unidecode.unidecode(found_location)\n",
    "            if any(word.lower() in found_location.lower() for word in CA_cities): \n",
    "                search_id = re.search('id\\': (.+?),', str(tweet.user))\n",
    "                if search_id:\n",
    "                    found_id = search_id.group(1)\n",
    "                    CA_ids.append(found_id)\n",
    "    CAS_id.append(CA_ids)\n"
   ]
  },
  {
   "cell_type": "code",
   "execution_count": 73,
   "metadata": {},
   "outputs": [
    {
     "data": {
      "text/plain": [
       "12         Santa Maria de Gracia\n",
       "42                      Arrecife\n",
       "44    Las Palmas de Gran Canaria\n",
       "52        Santa Cruz de Tenerife\n",
       "Name: city, dtype: object"
      ]
     },
     "execution_count": 73,
     "metadata": {},
     "output_type": "execute_result"
    }
   ],
   "source": [
    "CA_ids"
   ]
  },
  {
   "cell_type": "code",
   "execution_count": 59,
   "metadata": {},
   "outputs": [],
   "source": [
    "df_ids = pd.DataFrame(CAS_ids, columns = [\"Andalusia\", \"Madrid\", \"Catalonia\", \"Basque_Country\", \"Canary_Islands\"]) "
   ]
  },
  {
   "cell_type": "code",
   "execution_count": 60,
   "metadata": {},
   "outputs": [],
   "source": [
    "df_ids.to_csv(\"CAS_ids.csv\")"
   ]
  },
  {
   "cell_type": "code",
   "execution_count": 40,
   "metadata": {},
   "outputs": [
    {
     "name": "stdout",
     "output_type": "stream",
     "text": [
      "@LaOtherF @maemiaelpatio Como??\n",
      "@UfffXica @LaOtherF En mi tl está 😉\n",
      "RT @mjrubiosa_: Yo en el amor. https://t.co/JkmBklEYcU\n",
      "@LaOtherF @UfffXica para qué, ya está colgada como siempre.\n",
      "Oye Línea Directa, no es nada personal, pero estamos hasta los cojones del Matías. Alguien tenía que decirlo.\n",
      "RT @eldiarioes: Wyoming: \"¿Si en lugar de mujeres se hubiera asesinado a 1.000 políticos, se hablaría de 'denuncias falsas'? https://t.co/Q…\n",
      "@maemiaelpatio @Erika12505845 Eaaa!! Hasta luego https://t.co/CDMOctKxSV\n",
      "@Erika12505845 Es el de echándome las manos a la cara\n",
      "@maemiaelpatio Os tomáis mis tuits muy en serio y así no es, pero ya te lo explicaré cara a cara 😂😂\n",
      "@maemiaelpatio @Erika12505845 Éramos pocos y...\n",
      "@Erika12505845 Alaaaaaa!!! 🤦🏻‍♂️\n",
      "@Erika12505845 Uyy q va, con lo que me gusta a mí besar en pleno acto sexual, por favor 😉\n",
      "@Erika12505845 Maravilloso!!\n",
      "@mebajolaluna 😘😘😘\n",
      "Con vuestros ojos, tetas, culos, cuerpos sensuales y labios, aquí estoy, haciendo un puzzle y viendo si estáis follables o no.\n",
      "@Erika12505845 https://t.co/cnwrtLFT2z\n",
      "RT @AlvaroBenitoR: El fallo no está en caerse del árbol, está en no volver a subirse. Sino que se lo pregunten al que le dijeron que la tie…\n",
      "RT @mascarponejaja: Holi. Estoy dando un garbeo por Málaga, echando currículums, por si sabéis de algún sitio, por el centro, al que ir a d…\n",
      "@Erika12505845 Estoy en el contenedor azul, en el de claro y cristalino 😘😘\n",
      "RT @robotronk1: https://t.co/1Y73YJTmn5\n",
      "RT @BegotxuBoo: Dime cosas sucias (lo de la caja b no vale). https://t.co/uGlBsl1Ocq\n",
      "Después de un buen entreno toca recuperador y #MiercolesDeBarbas pa la jungla tuitera. https://t.co/wnzc9YDOUj\n",
      "RT @incomp_let: Murió envenenado por un \"no pasa nada\".\n",
      "RT @Darthmedebeber: Viva España, pero la pegatina de la banderita que le he puesto a mi coche de importación es del chino.\n",
      "Mermelada casera de Mora  de Papaya, casi na!! Lo que tiene venir a ver a la mama al pueblo 🤤🤤🤤 https://t.co/sxr2dDUFwy\n",
      "Yo sé que el dinero no da la felicidad, pero yo quiero comprobarlo personalmente. Buenos dias!!\n",
      "Reunión de comunidad tranquila y con consenso ya que no ha venido el déspota del presidente el cual hemos echado de… https://t.co/RgWmm224rq\n",
      "Voy a bajar a ver quien de mi comunidad está más mal follad@. Reunión de comunidad, desearme suerte.\n",
      "@anna_rc4_ Si no me escribes, no puedo contestarte 😂😂😂\n",
      "@nonbalas Sessi sessi\n",
      "#MartesDeTetas con pezones como el timbre de un castillo y la aureola como una galleta campurriana.\n",
      "He podido comprobar que tener Twitter por la App me consume mucha más batería que por el navegador, y teniendo un i… https://t.co/qzJFbEXeXi\n",
      "1.000 mujeres muertas por asesinos machistas desde el 2003...\n",
      "\n",
      "              “MIL”\n",
      "\n",
      "Las leyes aún se quedan cortas… https://t.co/2D35FZwhKz\n",
      "Pasando de todo y tal...\n",
      "@Lady_34r54345R Si claro!! https://t.co/GYK901lUDI\n",
      "@Lady_34r54345R Jeje, yo ayer en donde comen dos, que fue en Malaga\n",
      "@zrashalta 😘😘😘\n",
      "@zrashalta https://t.co/NeF67rHAPw\n",
      "RT @Loka_lokita_lok: Soy de las que si veo un 1% de posibilidad tengo un 99% de fé\n",
      "@bettametasona https://t.co/mDqCRxry0P\n",
      "@MariflorSi No va por mi ehh.\n",
      "RT @despotaverde: Dime cosas ardientes. 😅😅😅😅 https://t.co/f1ngvVjMrb\n",
      "Hoy Ramos está promocionando la gomina Patrico.\n",
      "@maemiaelpatio Ya veo ya 😂😂😂\n",
      "VIVA VIVA VIVA!! https://t.co/lgTm02saQj\n",
      "@maemiaelpatio 😂😂😂😂😂 día arriba día abajo 😂😂 una lotería contigo 😂😂😂😂\n",
      "@kaiagora 😂😂😂😂😂\n",
      "-Era guapa?\n",
      "\n",
      "-No le picaban los mosquitos.\n",
      "-Era guapa?\n",
      "\n",
      "-Era perita. \n",
      "\n",
      "#SoloParaMalaga\n",
      "@kaiagora https://t.co/z7JxhRw6LT\n",
      "@maemiaelpatio Cago en la puta 😂😂😂\n",
      "Que agotador tiene que ser eso de piropearlas a todas por aquí.\n",
      "Dejad de hacerle Rt a gente muy tonta por favor. Gracias!!\n",
      "No me mandáis más dm’s que no doy para más.\n",
      "@maemiaelpatio Si son tres dias, ese pseudo no es pa mi 😂😂😂😂\n",
      "Sois muy de mírame y no me folles y así os va.\n",
      "@JpnbcnP Hoy a las 20:45\n",
      "Hoy juega España y yo con estos pelos.\n",
      "RT @bitxito26: La prueba final para ser TEDAX es desenvolver un Tranchete sin que se rompa.\n",
      "Hola @Albert_Rivera https://t.co/ciO2E5GfIC\n",
      "Hoy no estoy pa nadie, hoy no estoy pa na, hoy estoy borracho de soleá.\n",
      "RT @SOBRHADA: Tanto quería llamar la atención, que en vez de en \"bombón\", se convirtió en \"la casitos\".\n",
      "RT @Lalocadelcarro: -\"Quién te quiere, te hará vivir\"\n",
      "RT @FGomaL: La nueva droga se llama Casas de Apuestas OnLine, las anuncian deportistas, periodistas y famosos, y tienen locales cerca de ce…\n",
      "RT @magnateUSA: He escuchado lo nuevo de Justin Bieber y mi prioridad ahora es construir un muro en la frontera con Canadá.\n",
      "A mi no me vengáis con vuestras mierdas de lunes si no es pa follá.\n",
      "RT @Lordpicaro: - ¿Cuánto me quieres?\n",
      "- Mucho.\n",
      "- ¿Tanto como para compartir el postre?\n",
      "- ¿Mucho no te vale?\n",
      "Me rio yo de tus excusas.\n",
      "@EFEnoticias Que novedad\n",
      "Pasar del todo a nada, razón aquí.\n",
      "Ahí vamos, feliz semana a tod@s.\n",
      "RT @zrashalta: La locura de unos es la cordura de otros.\n",
      "Hasta mañana!!! Bona nit. https://t.co/xdSz47KWS0\n",
      "Los madridistas están tan necesitados los pobres míos que ahí andan, celebrando lo que gana Cristiano, angelicos.\n",
      "RT @zrashalta: Piensa en cuantas cosas no cuentas por lo que piensen de ti.\n",
      "Ahora escucha, incluso sin saber hablan.\n",
      "Solución: cuenta y dal…\n",
      "RT @JpnbcnP: \"Hay que aprender a cuidar a la gente que nos hace bien, esa que esperaría por nosotros en la última estación del tren. Gente…\n",
      "Vivo en un bajo pero me hace ilusión hacerme una foto en el ascensor para parecer igual de gilipollas que el resto.\n",
      "RT @BOX_PANGEA: Os metéis con Juan José Cortés porque es de hernia gitana.\n",
      "RT @Melfemeni: Apaga la televisión y enciende el vibrador.\n",
      "@lerendalamenda Pronto te llegará 😂😂😂\n",
      "@bea64666456 😂😂😂😂\n",
      "@masensiomlg Yo más aún 😂😂😂\n",
      "@bea64666456 https://t.co/lwa9NQuUZc\n",
      "Os estáis pasando mi fotopolla entre vosotras y así no es.\n",
      "RT @As_de_Pecas: Yo me piro, men https://t.co/JHrFYtkewp\n",
      "@As_de_Pecas Como para escayolarlo al pobre.\n",
      "@X23_Cat Dame conversación corazón 😂😂😂 https://t.co/2UcbtQKNK8\n",
      "Que dice mi compañero que qué pocas de trabajar tengo y no le falta razón al muchacho oye.\n",
      "-No se puede hablar contigo.\n",
      "\n",
      "-Follando si.\n",
      "-Qué haces en Twitter?\n",
      "\n",
      "-Hacerme el guay.\n",
      "@Melfemeni Venga ya!!\n",
      "@AnitsirC____ 😂😂😂😂😂 PESTOSA!!!\n",
      "Pasáis muy pronto de las fotos de cervezas a la depresión del lunes y así os va.\n",
      "@SirenaSinAlas81 Se lleva Bien mujer 😂😂😂\n",
      "@diarioas Al Barça 👌🏻\n",
      "Sólo se deja caer cuando llega a lo más alto y gana. El mejor deportista que he visto en mi vida D. Rafael Nadal. E… https://t.co/JXJSDI27k6\n",
      "La que marca el turno de noche con sus tres o cuatro infusiones. Al lío!! https://t.co/5GdRYmMQ5O\n",
      "RT @Xuxipc: Ahora Madrid hace una obra por 14 millones de euros.\n",
      "El PP la había presupuestado en 110. Más los sobrecostes habituales, unos…\n",
      "RT @BeerGinMerry: En mis pajas mentales todo salía bien.\n",
      "RT @Pontepousada: @elmundotoday https://t.co/ia6MjIvfp8\n"
     ]
    }
   ],
   "source": [
    "tweets = tweepy.Cursor(api.user_timeline, id = \"1084113752948199424\").items(100)\n",
    "for tweet in tweets:\n",
    "    print(tweet.text)"
   ]
  },
  {
   "cell_type": "code",
   "execution_count": 23,
   "metadata": {},
   "outputs": [],
   "source": [
    "search_location = re.search('blabalsdasd', str(tweet.user))"
   ]
  },
  {
   "cell_type": "code",
   "execution_count": 24,
   "metadata": {
    "collapsed": true
   },
   "outputs": [],
   "source": [
    "search_location"
   ]
  },
  {
   "cell_type": "code",
   "execution_count": 17,
   "metadata": {
    "collapsed": true
   },
   "outputs": [],
   "source": [
    "query = 'python'\n",
    "max_tweets = 10\n",
    "searched_tweets = [status.text for status in tweepy.Cursor(api.search, geocode=Andalusia + \",250km\").items(max_tweets)]"
   ]
  },
  {
   "cell_type": "code",
   "execution_count": 18,
   "metadata": {},
   "outputs": [
    {
     "data": {
      "text/plain": [
       "['lo mas interesante que me ha pasado hoy: he entrado en pokemon go y  han añadido una pokeparada al lado de mi puta casa soy feliz con poco',\n",
       " 'vamos a vernos pero q nadie se entere',\n",
       " 'RT @Barklysh: Cuando estoy triste veo este video y se me pasa https://t.co/d5AiCBUTIY',\n",
       " 'RT @marinarguezh: Literalmente cuando he visto las dos opciones he hecho eso y me he replantado mi vida en 30 segundos https://t.co/w6OO6la…',\n",
       " 'Así os pudrais @stradivarius',\n",
       " 'RT @noeliaot2018: @auronplay La intención es lo que cuenta',\n",
       " 'RT @IrethMarthu: Empezamos antes directo ;D gou!! https://t.co/TioiPZaWdm @espcomtriforce',\n",
       " '@juanan20burgui ort_coni_11@hotmail.com',\n",
       " 'El viernes 14 de junio estaremos en la final de \"Al filo\" en el Parque San Sebastián de Ogíjares (Granada).… https://t.co/P3wFQClZyh',\n",
       " 'RT @PetitAlba: Mi madre conmigo vs mi madre con mi novio https://t.co/kiEyVIS6mq']"
      ]
     },
     "execution_count": 18,
     "metadata": {},
     "output_type": "execute_result"
    }
   ],
   "source": [
    "searched_tweets"
   ]
  },
  {
   "cell_type": "code",
   "execution_count": 65,
   "metadata": {},
   "outputs": [
    {
     "data": {
      "text/plain": [
       "\"User(_api=<tweepy.api.API object at 0x000001B2F752B0B8>, _json={'id': 725760504, 'id_str': '725760504', 'name': 'Daniel Castro', 'screen_name': 'DanielCL97', 'location': 'Los Llanos de Aridane', 'description': '⚽️', 'url': None, 'entities': {'description': {'urls': []}}, 'protected': False, 'followers_count': 553, 'friends_count': 700, 'listed_count': 0, 'created_at': 'Mon Jul 30 10:09:45 +0000 2012', 'favourites_count': 1227, 'utc_offset': None, 'time_zone': None, 'geo_enabled': True, 'verified': False, 'statuses_count': 2856, 'lang': 'es', 'contributors_enabled': False, 'is_translator': False, 'is_translation_enabled': False, 'profile_background_color': '131516', 'profile_background_image_url': 'http://abs.twimg.com/images/themes/theme14/bg.gif', 'profile_background_image_url_https': 'https://abs.twimg.com/images/themes/theme14/bg.gif', 'profile_background_tile': True, 'profile_image_url': 'http://pbs.twimg.com/profile_images/1084976236944863234/IuAScNiN_normal.jpg', 'profile_image_url_https': 'https://pbs.twimg.com/profile_images/1084976236944863234/IuAScNiN_normal.jpg', 'profile_banner_url': 'https://pbs.twimg.com/profile_banners/725760504/1547513469', 'profile_link_color': '009999', 'profile_sidebar_border_color': 'EEEEEE', 'profile_sidebar_fill_color': 'EFEFEF', 'profile_text_color': '333333', 'profile_use_background_image': True, 'has_extended_profile': False, 'default_profile': False, 'default_profile_image': False, 'following': False, 'follow_request_sent': False, 'notifications': False, 'translator_type': 'none'}, id=725760504, id_str='725760504', name='Daniel Castro', screen_name='DanielCL97', location='Los Llanos de Aridane', description='⚽️', url=None, entities={'description': {'urls': []}}, protected=False, followers_count=553, friends_count=700, listed_count=0, created_at=datetime.datetime(2012, 7, 30, 10, 9, 45), favourites_count=1227, utc_offset=None, time_zone=None, geo_enabled=True, verified=False, statuses_count=2856, lang='es', contributors_enabled=False, is_translator=False, is_translation_enabled=False, profile_background_color='131516', profile_background_image_url='http://abs.twimg.com/images/themes/theme14/bg.gif', profile_background_image_url_https='https://abs.twimg.com/images/themes/theme14/bg.gif', profile_background_tile=True, profile_image_url='http://pbs.twimg.com/profile_images/1084976236944863234/IuAScNiN_normal.jpg', profile_image_url_https='https://pbs.twimg.com/profile_images/1084976236944863234/IuAScNiN_normal.jpg', profile_banner_url='https://pbs.twimg.com/profile_banners/725760504/1547513469', profile_link_color='009999', profile_sidebar_border_color='EEEEEE', profile_sidebar_fill_color='EFEFEF', profile_text_color='333333', profile_use_background_image=True, has_extended_profile=False, default_profile=False, default_profile_image=False, following=False, follow_request_sent=False, notifications=False, translator_type='none')\""
      ]
     },
     "execution_count": 65,
     "metadata": {},
     "output_type": "execute_result"
    }
   ],
   "source": [
    "str(a)"
   ]
  },
  {
   "cell_type": "code",
   "execution_count": 69,
   "metadata": {
    "collapsed": true
   },
   "outputs": [],
   "source": [
    "import re\n",
    "\n",
    "text = 'L97\\', \\'location\\': \\'Los Llanos de Aridane\\', '\n",
    "\n",
    "m = re.search('location\\':(.+?),', text)\n",
    "if m:\n",
    "    found = m.group(1)"
   ]
  },
  {
   "cell_type": "code",
   "execution_count": 70,
   "metadata": {},
   "outputs": [
    {
     "data": {
      "text/plain": [
       "\" 'Los Llanos de Aridane'\""
      ]
     },
     "execution_count": 70,
     "metadata": {},
     "output_type": "execute_result"
    }
   ],
   "source": [
    "found"
   ]
  },
  {
   "cell_type": "code",
   "execution_count": 49,
   "metadata": {
    "collapsed": true
   },
   "outputs": [],
   "source": [
    "comunidades_tweets = []\n",
    "for comunidad in comunidades:\n",
    "    comunidad_tweet = []\n",
    "    tweets = tweepy.Cursor(api.search, geocode = comunidad + \",150km\").items(10)\n",
    "    for tweet in tweets:\n",
    "        comunidad_tweet.append(tweet.text)\n",
    "    comunidades_tweets.append(comunidad_tweet)"
   ]
  },
  {
   "cell_type": "code",
   "execution_count": 50,
   "metadata": {},
   "outputs": [
    {
     "data": {
      "text/plain": [
       "['@Gonspliters https://t.co/Rt6p2bp56I',\n",
       " '@lestermillones Ahí tienes la foto!!!!',\n",
       " '@isabelsg_04: t voy a hacer un collar\\nisabelmariasanch3 10 mins después: https://t.co/zmHXovVEbg',\n",
       " 'Juego de monos. A favor.',\n",
       " 'Ancestor the humankind https://t.co/UP7MdMClaw',\n",
       " 'RT @Espball: elle https://t.co/cqywQeKDwR',\n",
       " '@martalarag pues mejor no cuentes los que te quedan',\n",
       " '@belsami2003 @emilioalamos @iesPSD_Alcorcon En los Centros publicos,generalmente, no llevan uniformes,pero el Conse… https://t.co/CPYN4EyPnj',\n",
       " '@Jon_Landini @MagiaPokemon la mierda esta xd https://t.co/zeQ14SjwKg',\n",
       " '@esa_abuela @onwonw1 Es bien... muy bien https://t.co/1jTh9PSbv9']"
      ]
     },
     "execution_count": 50,
     "metadata": {},
     "output_type": "execute_result"
    }
   ],
   "source": [
    "comunidades_tweets[0]"
   ]
  },
  {
   "cell_type": "code",
   "execution_count": 41,
   "metadata": {},
   "outputs": [
    {
     "ename": "IndexError",
     "evalue": "list index out of range",
     "output_type": "error",
     "traceback": [
      "\u001b[1;31m---------------------------------------------------------------------------\u001b[0m",
      "\u001b[1;31mIndexError\u001b[0m                                Traceback (most recent call last)",
      "\u001b[1;32m<ipython-input-41-58719b927116>\u001b[0m in \u001b[0;36m<module>\u001b[1;34m()\u001b[0m\n\u001b[1;32m----> 1\u001b[1;33m \u001b[0mcomunidades_tweets\u001b[0m\u001b[1;33m[\u001b[0m\u001b[1;36m0\u001b[0m\u001b[1;33m]\u001b[0m\u001b[1;33m[\u001b[0m\u001b[1;36m10\u001b[0m\u001b[1;33m]\u001b[0m\u001b[1;33m[\u001b[0m\u001b[1;36m0\u001b[0m\u001b[1;33m]\u001b[0m\u001b[1;33m\u001b[0m\u001b[0m\n\u001b[0m",
      "\u001b[1;31mIndexError\u001b[0m: list index out of range"
     ]
    }
   ],
   "source": [
    "comunidades_tweets[0][10][0]"
   ]
  },
  {
   "cell_type": "code",
   "execution_count": 42,
   "metadata": {},
   "outputs": [
    {
     "data": {
      "text/plain": [
       "10"
      ]
     },
     "execution_count": 42,
     "metadata": {},
     "output_type": "execute_result"
    }
   ],
   "source": [
    "len(comunidades_tweets[4])"
   ]
  },
  {
   "cell_type": "code",
   "execution_count": 46,
   "metadata": {
    "collapsed": true
   },
   "outputs": [],
   "source": [
    "comunidades_tweets_clean = []\n",
    "for sentence in comunidades_tweets[0]:\n",
    "    lower_case = sentence.lower()        # Convert to lower case\n",
    "    words = lower_case.split()               # Split into words\n",
    "    words = [w for w in words if not w in stopwords.words(\"spanish\")]\n",
    "    comunidades_tweets_clean += words"
   ]
  },
  {
   "cell_type": "code",
   "execution_count": 47,
   "metadata": {
    "collapsed": true
   },
   "outputs": [],
   "source": [
    "new_vals = Counter(comunidades_tweets_clean).most_common(10)"
   ]
  },
  {
   "cell_type": "code",
   "execution_count": 48,
   "metadata": {},
   "outputs": [
    {
     "data": {
      "text/plain": [
       "[('rt', 5),\n",
       " ('echo', 1),\n",
       " ('mano', 1),\n",
       " ('@instagram', 1),\n",
       " ('https://t.co/dmecmf6ty7', 1),\n",
       " ('https://t.co/paitfw2oy7', 1),\n",
       " ('pf,', 1),\n",
       " ('paso', 1),\n",
       " ('agobiarme', 1),\n",
       " ('nota', 1)]"
      ]
     },
     "execution_count": 48,
     "metadata": {},
     "output_type": "execute_result"
    }
   ],
   "source": [
    "new_vals"
   ]
  },
  {
   "cell_type": "code",
   "execution_count": null,
   "metadata": {
    "collapsed": true
   },
   "outputs": [],
   "source": []
  }
 ],
 "metadata": {
  "kernelspec": {
   "display_name": "Python 3",
   "language": "python",
   "name": "python3"
  },
  "language_info": {
   "codemirror_mode": {
    "name": "ipython",
    "version": 3
   },
   "file_extension": ".py",
   "mimetype": "text/x-python",
   "name": "python",
   "nbconvert_exporter": "python",
   "pygments_lexer": "ipython3",
   "version": "3.6.6"
  }
 },
 "nbformat": 4,
 "nbformat_minor": 2
}
