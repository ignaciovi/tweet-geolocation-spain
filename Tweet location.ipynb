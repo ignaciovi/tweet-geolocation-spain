{
 "cells": [
  {
   "cell_type": "code",
   "execution_count": 1,
   "metadata": {
    "collapsed": true
   },
   "outputs": [],
   "source": [
    "import sys\n",
    "import tweepy\n",
    "import sys\n",
    "import tweepy\n",
    "from nltk.corpus import stopwords\n",
    "import re\n",
    "from collections import Counter\n",
    "import pandas as pd\n",
    "import unidecode\n",
    "\n",
    "consumer_key='YJDELxapXCz0dIbfJcJ27sfU5'\n",
    "consumer_secret='q5ucGBB9xU9p5Xvorp9UwtvN3qaEhOlOFye3bL83YRRE9riTc0'\n",
    "access_key='959019738855862273-PqPmgzE4fIrlLb9x49xSUAN5HoqjS15'\n",
    "access_secret='jtYyvfdPiXGoeuJ5QnmnaAluw8bSitinnqUMI4Sl2cDWm'\n",
    "\n",
    "auth = tweepy.OAuthHandler(consumer_key, consumer_secret)\n",
    "auth.set_access_token(access_key, access_secret)\n",
    "api = tweepy.API(auth, wait_on_rate_limit=True)\n",
    "\n",
    "\n",
    "df = pd.read_csv('cities.csv', encoding='utf-8')"
   ]
  },
  {
   "cell_type": "code",
   "execution_count": 2,
   "metadata": {},
   "outputs": [
    {
     "data": {
      "text/html": [
       "<div>\n",
       "<style scoped>\n",
       "    .dataframe tbody tr th:only-of-type {\n",
       "        vertical-align: middle;\n",
       "    }\n",
       "\n",
       "    .dataframe tbody tr th {\n",
       "        vertical-align: top;\n",
       "    }\n",
       "\n",
       "    .dataframe thead th {\n",
       "        text-align: right;\n",
       "    }\n",
       "</style>\n",
       "<table border=\"1\" class=\"dataframe\">\n",
       "  <thead>\n",
       "    <tr style=\"text-align: right;\">\n",
       "      <th></th>\n",
       "      <th>city</th>\n",
       "      <th>lat</th>\n",
       "      <th>lng</th>\n",
       "      <th>country</th>\n",
       "      <th>iso2</th>\n",
       "      <th>admin</th>\n",
       "      <th>capital</th>\n",
       "      <th>population</th>\n",
       "      <th>population_proper</th>\n",
       "    </tr>\n",
       "  </thead>\n",
       "  <tbody>\n",
       "    <tr>\n",
       "      <th>0</th>\n",
       "      <td>Madrid</td>\n",
       "      <td>40.412752</td>\n",
       "      <td>-3.707721</td>\n",
       "      <td>Spain</td>\n",
       "      <td>ES</td>\n",
       "      <td>Madrid</td>\n",
       "      <td>primary</td>\n",
       "      <td>5567000.0</td>\n",
       "      <td>50437.0</td>\n",
       "    </tr>\n",
       "    <tr>\n",
       "      <th>1</th>\n",
       "      <td>Barcelona</td>\n",
       "      <td>41.398371</td>\n",
       "      <td>2.174100</td>\n",
       "      <td>Spain</td>\n",
       "      <td>ES</td>\n",
       "      <td>Catalonia</td>\n",
       "      <td>admin</td>\n",
       "      <td>4920000.0</td>\n",
       "      <td>1581595.0</td>\n",
       "    </tr>\n",
       "    <tr>\n",
       "      <th>2</th>\n",
       "      <td>Sevilla</td>\n",
       "      <td>37.382826</td>\n",
       "      <td>-5.973167</td>\n",
       "      <td>Spain</td>\n",
       "      <td>ES</td>\n",
       "      <td>Andalusia</td>\n",
       "      <td>admin</td>\n",
       "      <td>1212045.0</td>\n",
       "      <td>703021.0</td>\n",
       "    </tr>\n",
       "    <tr>\n",
       "      <th>3</th>\n",
       "      <td>Bilbao</td>\n",
       "      <td>43.260919</td>\n",
       "      <td>-2.938764</td>\n",
       "      <td>Spain</td>\n",
       "      <td>ES</td>\n",
       "      <td>Basque Country</td>\n",
       "      <td>minor</td>\n",
       "      <td>875552.0</td>\n",
       "      <td>353187.0</td>\n",
       "    </tr>\n",
       "    <tr>\n",
       "      <th>4</th>\n",
       "      <td>Valencia</td>\n",
       "      <td>39.466667</td>\n",
       "      <td>-0.366667</td>\n",
       "      <td>Spain</td>\n",
       "      <td>ES</td>\n",
       "      <td>Valencia</td>\n",
       "      <td>admin</td>\n",
       "      <td>808000.0</td>\n",
       "      <td>805304.0</td>\n",
       "    </tr>\n",
       "  </tbody>\n",
       "</table>\n",
       "</div>"
      ],
      "text/plain": [
       "        city        lat       lng country iso2           admin  capital  \\\n",
       "0     Madrid  40.412752 -3.707721   Spain   ES          Madrid  primary   \n",
       "1  Barcelona  41.398371  2.174100   Spain   ES       Catalonia    admin   \n",
       "2    Sevilla  37.382826 -5.973167   Spain   ES       Andalusia    admin   \n",
       "3     Bilbao  43.260919 -2.938764   Spain   ES  Basque Country    minor   \n",
       "4   Valencia  39.466667 -0.366667   Spain   ES        Valencia    admin   \n",
       "\n",
       "   population  population_proper  \n",
       "0   5567000.0            50437.0  \n",
       "1   4920000.0          1581595.0  \n",
       "2   1212045.0           703021.0  \n",
       "3    875552.0           353187.0  \n",
       "4    808000.0           805304.0  "
      ]
     },
     "execution_count": 2,
     "metadata": {},
     "output_type": "execute_result"
    }
   ],
   "source": [
    "df.head()"
   ]
  },
  {
   "cell_type": "code",
   "execution_count": 3,
   "metadata": {
    "collapsed": true
   },
   "outputs": [],
   "source": [
    "Andalusia = [\"Andalusia\", \"37.3399964,-4.5811614,250km\"]\n",
    "#Extremadura = \n",
    "Madrid = [\"Madrid\", \"40.5248319,-3.7715628,60km\"]\n",
    "Catalonia = [\"Catalonia\", \"41.8523094,1.5745043,150km\"]\n",
    "#CastillaLaMancha = \n",
    "#CastillaLeon = \n",
    "#Cantabria = \n",
    "Basque_Country = [\"Basque Country\", \"42.9911816,-2.5543023,100km\"]\n",
    "#ComunidadValenciana = \n",
    "Canary_Islands = [\"Canary Islands\", \"28.5306525,-15.7464439,400km\"]\n",
    "#Aragon = \n",
    "#LaRioja = \n",
    "#Navarra = \n",
    "#Asturias = \n",
    "#Murcia = \n",
    "\n",
    "CAS = [Andalusia, Madrid, Catalonia, Basque_Country, Canary_Islands]"
   ]
  },
  {
   "cell_type": "code",
   "execution_count": 4,
   "metadata": {
    "collapsed": true
   },
   "outputs": [],
   "source": [
    "#Rate limits are divided into 15 minute intervals. All endpoints require authentication, \n",
    "#so there is no concept of unauthenticated calls and rate limits. There are two initial buckets available \n",
    "#for GET requests: 15 calls every 15 minutes, and 180 calls every 15 minutes."
   ]
  },
  {
   "cell_type": "code",
   "execution_count": 5,
   "metadata": {},
   "outputs": [
    {
     "data": {
      "text/plain": [
       "['Santa Maria de Gracia',\n",
       " 'Arrecife',\n",
       " 'Las Palmas de Gran Canaria',\n",
       " 'Santa Cruz de Tenerife']"
      ]
     },
     "execution_count": 5,
     "metadata": {},
     "output_type": "execute_result"
    }
   ],
   "source": [
    "list(df[df[\"admin\"] == \"Canary Islands\"][\"city\"])"
   ]
  },
  {
   "cell_type": "code",
   "execution_count": 6,
   "metadata": {
    "collapsed": true
   },
   "outputs": [],
   "source": [
    "CAS_ids = []\n",
    "for CA in CAS:\n",
    "    CA_cities = df[df[\"admin\"] == CA[0]][\"city\"]\n",
    "    tweets = tweepy.Cursor(api.search, geocode = CA[1]).items(300)  \n",
    "    CA_ids = []\n",
    "    for tweet in tweets:\n",
    "        search_location = re.search('location\\':(.+?),', str(tweet.user))\n",
    "        if search_location:\n",
    "            found_location = search_location.group(1)\n",
    "            # Delete accent\n",
    "            found_location = unidecode.unidecode(found_location)\n",
    "            if any(word.lower() in found_location.lower() for word in CA_cities): \n",
    "                search_id = re.search('id\\': (.+?),', str(tweet.user))\n",
    "                if search_id:\n",
    "                    found_id = search_id.group(1)\n",
    "                    CA_ids.append(found_id)\n",
    "    CAS_ids.append(CA_ids)\n"
   ]
  },
  {
   "cell_type": "code",
   "execution_count": 7,
   "metadata": {},
   "outputs": [
    {
     "name": "stdout",
     "output_type": "stream",
     "text": [
      "              Andalusia               Madrid            Catalonia  \\\n",
      "0             392748212            225840482           3290824602   \n",
      "1   1061369801434636288   922688039658426368  1034423944235954179   \n",
      "2            2521085681           1013917093   748903179962687493   \n",
      "3             599372052  1110843820579659777            333913500   \n",
      "4             423706531   915803775507582976            139998032   \n",
      "5   1086269060373929985            551119325            124932295   \n",
      "6             367855881            609133159           1390080264   \n",
      "7             633551251  1048917782253981696   975953621010481152   \n",
      "8             875241254   907360620445618176   709843139314491392   \n",
      "9            2237909977  1014255671192248320   986697120127348743   \n",
      "10   706175784336171008            254179799             23606887   \n",
      "11  1097866641566846976   722822285741019136            271090875   \n",
      "12            324367893            262260222            254950846   \n",
      "13            978808964           1401861318            555940306   \n",
      "14           1034433654           2734327872   952639916550316032   \n",
      "15            853568994           2637097468   907651961046134785   \n",
      "16            485930780            168185790            271057058   \n",
      "17           1701787946  1004815698860929026           4560371181   \n",
      "18   972538180913238016           2983085686            224563222   \n",
      "19   932651976113913856            118831328             33483640   \n",
      "20  1010074307102433280           2882597733  1097102527533858816   \n",
      "21   856873775413047301  1054025714037637126           2606132092   \n",
      "22            351576331            187925499            301320171   \n",
      "23           1157942298           2205705271   948928990466723841   \n",
      "24            171439957  1058824187819757568           2829871074   \n",
      "25            756911916           3825361161   789799309751492609   \n",
      "26            274579862   913033971595907072  1014104605175832576   \n",
      "27            448922436            233693503           1478075070   \n",
      "28           2330791154  1115343350880702464   945983316058169344   \n",
      "29            605491303  1098170549644210178   952639916550316032   \n",
      "30   895368352989925377   719967011875504128            588466978   \n",
      "31           1649052344  1027535861653614593           1141306261   \n",
      "32  1069361372230750208            427474827            262850062   \n",
      "33            794861546            254179799            258592545   \n",
      "34           2661933977            249715691   895274237283446785   \n",
      "35            889012309  1043859819487252482            287252488   \n",
      "36  1016507179162054656  1045411912853401601   813024825614671872   \n",
      "37           3906489388            921209858            322205238   \n",
      "38           2346794758  1092338551591759872   837323380827238400   \n",
      "39            407163199   824503426142916608             23104186   \n",
      "40           1157942298           2336700560           3602461516   \n",
      "41            327831665           2203521230           2241974516   \n",
      "42   950187731556151298  1003360428649566215  1076477100931104769   \n",
      "43            333447234            577289597            531615457   \n",
      "44            392848697           1234047757           2943622935   \n",
      "45  1073501287029841920           3216645311             72924205   \n",
      "46            303712316            247516148   858018058530672641   \n",
      "47           2765929185   831260337492074496            196169416   \n",
      "48            471975617           3128250433            252307871   \n",
      "49   788451199808860160            631950184   799295890980749313   \n",
      "50            594806879            365080255            153407449   \n",
      "51            131878913  1087026455786258439            360072379   \n",
      "\n",
      "         Basque_Country       Canary_Islands  \n",
      "0            1238733906  1057041815940071425  \n",
      "1    949643355876708352            219835705  \n",
      "2    749356828446842880           3345287200  \n",
      "3             565838350  1031206081106792450  \n",
      "4            3153650715           3398668641  \n",
      "5             109082699           2932170106  \n",
      "6             510800461   805122588909375488  \n",
      "7   1071537760668925952            901998390  \n",
      "8            2417537331  1081900675888484352  \n",
      "9             414166788   731974370244079616  \n",
      "10  1034568236480843786            607641422  \n",
      "11  1023578341515898880            282969729  \n",
      "12           3153650715           3585991755  \n",
      "13  1000449052687945728   825437094352973824  \n",
      "14   738058108459749376  1079739455244779520  \n",
      "15  1037398914348003328   865898449308446720  \n",
      "16            367392152            487053414  \n",
      "17           2535750868   975478889974845440  \n",
      "18  1037398914348003328   781810267445403648  \n",
      "19            248863401   941287726590152704  \n",
      "20              2147611           2210460803  \n",
      "21   989848259991662592  1103410868547710979  \n",
      "22            469405363            123601727  \n",
      "23            564031971           1145692375  \n",
      "24           3221159194  1122824231249698816  \n",
      "25           2290610835            402424076  \n",
      "26  1034568236480843786  1057041815940071425  \n",
      "27  1090406513728995330  1041794823739592704  \n",
      "28   802195307597594624           2465144176  \n",
      "29   971527467801464832           3989447819  \n",
      "30           3153650715            112906708  \n",
      "31             82177596            391899892  \n",
      "32             82177596   889606887360081922  \n",
      "33            586593682  1006267578472386560  \n",
      "34  1037398914348003328   746432234232635392  \n",
      "35   738058108459749376  1040625239586205697  \n",
      "36  1095791610128936962  1041794823739592704  \n",
      "37   798652126121644033            156354508  \n",
      "38   948287650926120962  1041794823739592704  \n",
      "39           3310905017           3367491143  \n",
      "40  1090406513728995330  1042713230651613184  \n",
      "41   802195307597594624            770582588  \n",
      "42           2182463080   924288108610322432  \n",
      "43  1075095916112199682           3372209741  \n",
      "44            604670779  1079739455244779520  \n",
      "45           2504725756  1108448914351550464  \n",
      "46           2984647289  1079666734947356672  \n",
      "47           1080190224  1061586073850183680  \n",
      "48   904516160749805570   717006128161361920  \n",
      "49            206202367   912002257880850433  \n",
      "50  1000449052687945728           2932170106  \n",
      "51            401971332  1015232444465930241  \n"
     ]
    }
   ],
   "source": [
    "columns  =[\"Andalusia\", \"Madrid\", \"Catalonia\", \"Basque_Country\", \"Canary_Islands\"]\n",
    "df_ids = pd.DataFrame(data=list(zip(CAS_ids[0], CAS_ids[1], CAS_ids[2], CAS_ids[3], CAS_ids[4])),columns=columns)\n",
    "print(df_ids)"
   ]
  },
  {
   "cell_type": "code",
   "execution_count": 8,
   "metadata": {
    "collapsed": true
   },
   "outputs": [],
   "source": [
    "df_ids.to_csv(\"CAS_ids2.csv\")"
   ]
  },
  {
   "cell_type": "code",
   "execution_count": null,
   "metadata": {
    "collapsed": true
   },
   "outputs": [],
   "source": [
    "# Now do for each CA\n",
    "tweet_users_text = []\n",
    "for user_id in df_ids[CA[0]]:\n",
    "    tweets = tweepy.Cursor(api.user_timeline, id=user_id).items(100)\n",
    "    # Preprocess tweet\n",
    "    tweet_text = [process_tweet(tweet.text) for tweet in tweets]\n",
    "    tweet_users_text+=(tweet_text)"
   ]
  },
  {
   "cell_type": "code",
   "execution_count": null,
   "metadata": {
    "collapsed": true
   },
   "outputs": [],
   "source": [
    "def process_tweet(sentence):\n",
    "    lower_case = sentence.lower()\n",
    "    words = lower_case.split()\n",
    "    words = [w for w in words if not w in stopwords.words(\"spanish\")]\n",
    "    words = [w for w in words if not \"@\" in w or if \"rt\" != w]     # Delete words that contain mentions or the RT word\n",
    "    return sentence"
   ]
  },
  {
   "cell_type": "code",
   "execution_count": null,
   "metadata": {
    "collapsed": true
   },
   "outputs": [],
   "source": [
    "comunidades_tweets_clean = []\n",
    "for sentence in comunidades_tweets[0]:\n",
    "    lower_case = sentence.lower()\n",
    "    words = lower_case.split()\n",
    "    words = [w for w in words if not w in stopwords.words(\"spanish\")]\n",
    "    words = [w for w in words if not \"@\" in w or if \"rt\" != w]     # Delete words that contain mentions or the RT word\n",
    "    comunidades_tweets_clean += words"
   ]
  },
  {
   "cell_type": "code",
   "execution_count": null,
   "metadata": {
    "collapsed": true
   },
   "outputs": [],
   "source": [
    "new_vals = Counter(comunidades_tweets_clean).most_common(10)"
   ]
  },
  {
   "cell_type": "code",
   "execution_count": null,
   "metadata": {
    "collapsed": true
   },
   "outputs": [],
   "source": [
    "new_vals"
   ]
  },
  {
   "cell_type": "code",
   "execution_count": null,
   "metadata": {
    "collapsed": true
   },
   "outputs": [],
   "source": []
  }
 ],
 "metadata": {
  "kernelspec": {
   "display_name": "Python 3",
   "language": "python",
   "name": "python3"
  },
  "language_info": {
   "codemirror_mode": {
    "name": "ipython",
    "version": 3
   },
   "file_extension": ".py",
   "mimetype": "text/x-python",
   "name": "python",
   "nbconvert_exporter": "python",
   "pygments_lexer": "ipython3",
   "version": "3.6.6"
  }
 },
 "nbformat": 4,
 "nbformat_minor": 2
}
